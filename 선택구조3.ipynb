{
 "cells": [
  {
   "attachments": {
    "5258bb8d-9590-4ba3-bb91-9b6021e2a34a.png": {
     "image/png": "[encoded data removed]"
    }
   },
   "cell_type": "markdown",
   "id": "2e8befbb-b60e-41f1-8486-e9eb05349953",
   "metadata": {
    "deletable": false,
    "editable": false
   },
   "source": [
    "### **조건문 활용 방법 3 : if-elif-else문**\n",
    "\n",
    "![조건문 그림3.png](attachment:5258bb8d-9590-4ba3-bb91-9b6021e2a34a.png)\n"
   ]
  },
  {
   "cell_type": "markdown",
   "id": "2db26bc4-7bbf-4c5f-80af-4ff598c3d34a",
   "metadata": {
    "deletable": false,
    "editable": false,
    "tags": []
   },
   "source": [
    "**📌 작동 방식**\n",
    "* elif는 if문 조건 이외의 다른 조건에 대해 코드를 구성하고 싶을 때 사용합니다. \n",
    "* if 옆에 작성된 조건이 참이면 if문 내부 코드1, 2가 실행됩니다. \n",
    "* if문의 조건이 거짓이면 elif문 조건의 참, 거짓을 확인합니다. \n",
    "* elif문 조건이 참인 경우, elif문의 내부 코드 3, 4가실행됩니다.  \n",
    "* if문과 elif문 조건이 모두 거짓인 경우 else이후의 코드 5가 실행됩니다. \n",
    "\n",
    "**📌 참고**\n",
    "* elif문은 원하는 조건의 개수만큼 여러 개 추가될 수 있습니다.   \n",
    "* else문은 생략해도 되지만, 예외적인 상황을 대비하기 위하여 작성해주는 것이 좋습니다."
   ]
  },
  {
   "cell_type": "markdown",
   "id": "c04c9ef4-482e-4c9f-a80e-7420ccdab39b",
   "metadata": {
    "deletable": false,
    "editable": false
   },
   "source": [
    "#### **예제 3 : if-elif-else문을 활용하여 조건 3개에 대해 다른 코드 실행하기**\n",
    "\n",
    "if-else-elif문을 활용하여 n이 5인 경우 \"n은 5입니다!\"를,   \n",
    "5보다 큰 경우 \"5보다 큽니다!\"를, 5보다 작은경우 \"5보다 작습니다!\"를 출력해봅시다."
   ]
  },
  {
   "cell_type": "code",
   "execution_count": null,
   "id": "9d3e2d42-ba4b-4ebd-9d1a-0ebdceda6658",
   "metadata": {
    "tags": [
     "jce.problems.221.jce.problems.4단원.4단원-예제3"
    ]
   },
   "outputs": [],
   "source": [
    "# 예제_3_if_elif_else문을_활용하여_조건_3개에_대해_다른_코드_실행하기\n",
    "n = int(input(\"숫자를 입력하세요\"))\n",
    "if n == 5:\n",
    "    print(\"n은 5 입니다!\")  # n==5 조건이 참일 때 실행됩니다. \n",
    "elif n > 5:\n",
    "    print(\"n은 5보다 큽니다!\")  # n==5 조건이 거짓이고, n>5 조건이 참일 때 실행됩니다. \n",
    "else:\n",
    "    print(\"n은 5보다 작습니다!\")  # n==5 조건이 거짓이고, n>5 조건도 거짓일 때 실행됩니다."
   ]
  },
  {
   "cell_type": "markdown",
   "id": "5968f5f8-7f30-4123-8684-28e5aace90ca",
   "metadata": {
    "deletable": false,
    "editable": false,
    "tags": []
   },
   "source": [
    "### **💯 연습문제를 풀어봅시다**\n",
    "1. <a class=\"jcecodle-mk jcecodle-mk__problem-chip\" data-problem-id=\"1AtktUQdrU0\" href='#jce-judge/open/1AtktUQdrU0' target='_self'><span>정수의 종류_빈칸</span></a>\n",
    "2. <a class=\"jcecodle-mk jcecodle-mk__problem-chip\" data-problem-id=\"NHgDnYTwYPU\" href='#jce-judge/open/NHgDnYTwYPU' target='_self'><span>정수의 종류</span></a>\n",
    "\n",
    "3. <a class=\"jcecodle-mk jcecodle-mk__problem-chip\" data-problem-id=\"rlc7mn9Go2c\" href='#jce-judge/open/rlc7mn9Go2c' target='_self'><span>점수 등급 분류하기1_빈칸</span></a>\n",
    "4. <a class=\"jcecodle-mk jcecodle-mk__problem-chip\" data-problem-id=\"130\" href='#jce-judge/open/130' target='_self'><span>점수 등급 분류하기1</span></a>\n",
    "\n",
    "5. <a class=\"jcecodle-mk jcecodle-mk__problem-chip\" data-problem-id=\"h5SmpDZWEso\" href='#jce-judge/open/h5SmpDZWEso' target='_self'><span>이번 달은 무슨 계절일까요?_빈칸</span></a>\n",
    "6. <a class=\"jcecodle-mk jcecodle-mk__problem-chip\" data-problem-id=\"133\" href='#jce-judge/open/133' target='_self'><span>이번 달은 무슨 계절일까요?</span></a>"
   ]
  }
 ],
 "metadata": {
  "kernelspec": {
   "display_name": "Python 3 (ipykernel)",
   "language": "python",
   "name": "python3"
  },
  "language_info": {
   "codemirror_mode": {
    "name": "ipython",
    "version": 3
   },
   "file_extension": ".py",
   "mimetype": "text/x-python",
   "name": "python",
   "nbconvert_exporter": "python",
   "pygments_lexer": "ipython3",
   "version": "3.10.13"
  },
  "read_only": true
 },
 "nbformat": 4,
 "nbformat_minor": 5
}
